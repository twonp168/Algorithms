{
  "nbformat": 4,
  "nbformat_minor": 0,
  "metadata": {
    "colab": {
      "provenance": [],
      "authorship_tag": "ABX9TyMVhHoTxwKD8fiut6mXHlnm",
      "include_colab_link": true
    },
    "kernelspec": {
      "name": "python3",
      "display_name": "Python 3"
    },
    "language_info": {
      "name": "python"
    }
  },
  "cells": [
    {
      "cell_type": "markdown",
      "metadata": {
        "id": "view-in-github",
        "colab_type": "text"
      },
      "source": [
        "<a href=\"https://colab.research.google.com/github/twonp168/Algorithms/blob/master/Copy_of_Untitled0.ipynb\" target=\"_parent\"><img src=\"https://colab.research.google.com/assets/colab-badge.svg\" alt=\"Open In Colab\"/></a>"
      ]
    },
    {
      "cell_type": "markdown",
      "source": [
        "Get an article and run GREP\n",
        "\n",
        "https://en.wikipedia.org/w/api.php?format=json&action=query&prop=extracts&exlimit=max&explaintext&titles=Abraham_Lincoln&redirects"
      ],
      "metadata": {
        "id": "b_nVx_96yEu0"
      }
    },
    {
      "cell_type": "code",
      "execution_count": null,
      "metadata": {
        "colab": {
          "base_uri": "https://localhost:8080/"
        },
        "id": "-XVPMPuax3e4",
        "outputId": "e9c5f1db-639c-466c-d4d6-4ff75e90cdb5"
      },
      "outputs": [
        {
          "output_type": "stream",
          "name": "stdout",
          "text": [
            "WARNING: combining -O with -r or -p will mean that all downloaded content\n",
            "will be placed in the single file you specified.\n",
            "\n",
            "--2022-09-07 02:30:46--  https://en.wikipedia.org/w/api.php?format=json&action=query&prop=extracts&exlimit=max&explaintext&titles=Abraham_Lincoln&redirects\n",
            "Resolving en.wikipedia.org (en.wikipedia.org)... 198.35.26.96, 2620:0:863:ed1a::1\n",
            "Connecting to en.wikipedia.org (en.wikipedia.org)|198.35.26.96|:443... connected.\n",
            "HTTP request sent, awaiting response... 200 OK\n",
            "Length: unspecified [application/json]\n",
            "Saving to: ‘Lincoln.txt’\n",
            "\n",
            "Lincoln.txt             [ <=>                ]  90.94K  --.-KB/s    in 0.04s   \n",
            "\n",
            "2022-09-07 02:30:46 (2.14 MB/s) - ‘Lincoln.txt’ saved [93122]\n",
            "\n",
            "FINISHED --2022-09-07 02:30:46--\n",
            "Total wall clock time: 0.3s\n",
            "Downloaded: 1 files, 91K in 0.04s (2.14 MB/s)\n"
          ]
        }
      ],
      "source": [
        "  !wget -r 'https://en.wikipedia.org/w/api.php?format=json&action=query&prop=extracts&exlimit=max&explaintext&titles=Abraham_Lincoln&redirects' -O Lincoln.txt "
      ]
    },
    {
      "cell_type": "markdown",
      "source": [
        "After downloading the raw text to a file names Lincoln.txt then load it locally in the folder.\n",
        "\n",
        "Next run the below command to convert it into multiple lines and call the file Lincoln-lines.txt"
      ],
      "metadata": {
        "id": "YTEgyAAyyMzf"
      }
    },
    {
      "cell_type": "code",
      "source": [
        "!sed 's/\\. /.\\n/g' Lincoln.txt > Lincoln-lines.txt"
      ],
      "metadata": {
        "id": "HnOTGbd6yC5D"
      },
      "execution_count": null,
      "outputs": []
    },
    {
      "cell_type": "code",
      "source": [
        "!grep \"where\" Lincoln-lines.txt | wc -l"
      ],
      "metadata": {
        "colab": {
          "base_uri": "https://localhost:8080/"
        },
        "id": "iXuNCGU8yVDb",
        "outputId": "263cf004-737f-4001-d48e-ccdd3cf18a8c"
      },
      "execution_count": null,
      "outputs": [
        {
          "output_type": "stream",
          "name": "stdout",
          "text": [
            "13\n"
          ]
        }
      ]
    },
    {
      "cell_type": "code",
      "source": [
        "!grep \"was\" Lincoln-lines.txt | wc -l"
      ],
      "metadata": {
        "colab": {
          "base_uri": "https://localhost:8080/"
        },
        "id": "hluFNTuRyah5",
        "outputId": "60036440-5303-456f-af61-27ddc5f507b4"
      },
      "execution_count": null,
      "outputs": [
        {
          "output_type": "stream",
          "name": "stdout",
          "text": [
            "152\n"
          ]
        }
      ]
    },
    {
      "cell_type": "code",
      "source": [
        "!grep \"Abraham\" Lincoln-lines.txt | wc -l"
      ],
      "metadata": {
        "colab": {
          "base_uri": "https://localhost:8080/"
        },
        "id": "d-2LzH3Uyci8",
        "outputId": "f0246a2c-229e-47d7-8a79-593d42abf329"
      },
      "execution_count": null,
      "outputs": [
        {
          "output_type": "stream",
          "name": "stdout",
          "text": [
            "19\n"
          ]
        }
      ]
    },
    {
      "cell_type": "code",
      "source": [
        "!grep \"Lincoln\" Lincoln-lines.txt | wc -l"
      ],
      "metadata": {
        "id": "w3jByqldyfC9",
        "outputId": "862c02f0-71e6-49ca-9001-6b27c3076a01",
        "colab": {
          "base_uri": "https://localhost:8080/"
        }
      },
      "execution_count": null,
      "outputs": [
        {
          "output_type": "stream",
          "name": "stdout",
          "text": [
            "300\n"
          ]
        }
      ]
    },
    {
      "cell_type": "code",
      "source": [
        "!grep \"born\" Lincoln-lines.txt | wc -l"
      ],
      "metadata": {
        "id": "BhNwZtNWyf4D",
        "outputId": "44f6b34c-77e3-4798-9e7f-3a88201f2ebd",
        "colab": {
          "base_uri": "https://localhost:8080/"
        }
      },
      "execution_count": null,
      "outputs": [
        {
          "output_type": "stream",
          "name": "stdout",
          "text": [
            "9\n"
          ]
        }
      ]
    }
  ]
}